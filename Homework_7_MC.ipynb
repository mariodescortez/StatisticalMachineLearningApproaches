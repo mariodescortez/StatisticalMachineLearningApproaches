{
 "cells": [
  {
   "cell_type": "code",
   "execution_count": 1,
   "id": "037cdebf",
   "metadata": {},
   "outputs": [],
   "source": [
    "import tensorflow as tf\n",
    "import matplotlib.pyplot as plt\n",
    "import random\n",
    "import pandas as pd\n",
    "import numpy as np"
   ]
  },
  {
   "cell_type": "markdown",
   "id": "5a5e1c3d",
   "metadata": {},
   "source": [
    "# Task:\n",
    "• Q1: Randomly divide data into train/test as 80/20 (set.seed=1). \\\n",
    "• Q2: Build a NN model with 1 hidden layer of 30 neurons, sigmoid activation function. \\\n",
    "• Q3: Build a deep NN model with multiple hidden layers (of your choice) and sigmoid activation function. \\\n",
    "• Q4: Build 5 other classification models and compare with the 2 previous NN models.\n"
   ]
  },
  {
   "cell_type": "code",
   "execution_count": null,
   "id": "655dcb53",
   "metadata": {},
   "outputs": [],
   "source": [
    "# Q1: Randomly divide data into train/test as 80/20 (set.seed=1)."
   ]
  },
  {
   "cell_type": "code",
   "execution_count": 65,
   "id": "8a8bff43",
   "metadata": {},
   "outputs": [],
   "source": [
    "from sklearn.model_selection import train_test_split\n",
    "from numpy import loadtxt\n",
    "from keras.models import Sequential\n",
    "from keras.layers import Dense\n",
    "X_train, X_test, y_train, y_test = train_test_split(data[data.columns.drop('Bankrupt?')],data[\"Bankrupt?\"], \\\n",
    "                                                    test_size=0.20, random_state = 1)"
   ]
  },
  {
   "cell_type": "code",
   "execution_count": 27,
   "id": "ad6f9c9d",
   "metadata": {},
   "outputs": [
    {
     "data": {
      "text/plain": [
       "220"
      ]
     },
     "execution_count": 27,
     "metadata": {},
     "output_type": "execute_result"
    }
   ],
   "source": [
    "data[\"Bankrupt?\"].sum()"
   ]
  },
  {
   "cell_type": "code",
   "execution_count": 30,
   "id": "96c34a92",
   "metadata": {},
   "outputs": [
    {
     "data": {
      "text/plain": [
       "6819"
      ]
     },
     "execution_count": 30,
     "metadata": {},
     "output_type": "execute_result"
    }
   ],
   "source": [
    "len(data)"
   ]
  },
  {
   "cell_type": "code",
   "execution_count": 46,
   "id": "2bdad61b",
   "metadata": {},
   "outputs": [
    {
     "data": {
      "text/plain": [
       "0"
      ]
     },
     "execution_count": 46,
     "metadata": {},
     "output_type": "execute_result"
    }
   ],
   "source": [
    "# no null values\n",
    "sum(data.isnull().sum())"
   ]
  },
  {
   "cell_type": "code",
   "execution_count": 10,
   "id": "81c48faa",
   "metadata": {},
   "outputs": [
    {
     "data": {
      "text/plain": [
       "5455"
      ]
     },
     "execution_count": 10,
     "metadata": {},
     "output_type": "execute_result"
    }
   ],
   "source": [
    "len(X_train)"
   ]
  },
  {
   "cell_type": "code",
   "execution_count": 47,
   "id": "526a9b5a",
   "metadata": {},
   "outputs": [
    {
     "data": {
      "text/plain": [
       "95"
      ]
     },
     "execution_count": 47,
     "metadata": {},
     "output_type": "execute_result"
    }
   ],
   "source": [
    "len(X_train.columns)"
   ]
  },
  {
   "cell_type": "code",
   "execution_count": 39,
   "id": "b1b4c3ac",
   "metadata": {},
   "outputs": [
    {
     "data": {
      "text/plain": [
       "1364"
      ]
     },
     "execution_count": 39,
     "metadata": {},
     "output_type": "execute_result"
    }
   ],
   "source": [
    "len(X_test)"
   ]
  },
  {
   "cell_type": "code",
   "execution_count": 84,
   "id": "254b7113",
   "metadata": {},
   "outputs": [],
   "source": [
    "# Q2. Build a NN model with 1 hidden layer of 30 neurons, sigmoid activation function. \n",
    "# define the keras model\n",
    "model = Sequential()\n",
    "model.add(Dense(12, input_dim=95, activation='sigmoid'))\n",
    "#model.add(Dense(8, activation='relu'))\n",
    "model.add(Dense(1, activation='sigmoid'))\n"
   ]
  },
  {
   "cell_type": "code",
   "execution_count": 87,
   "id": "8b84066b",
   "metadata": {},
   "outputs": [],
   "source": [
    "# compile the keras model\n",
    "model.compile(loss='binary_crossentropy', optimizer='adam', metrics=['accuracy'])"
   ]
  },
  {
   "cell_type": "code",
   "execution_count": 88,
   "id": "dbd959a9",
   "metadata": {},
   "outputs": [
    {
     "name": "stdout",
     "output_type": "stream",
     "text": [
      "Epoch 1/150\n",
      "546/546 [==============================] - 1s 1ms/step - loss: 0.1802 - accuracy: 0.9670\n",
      "Epoch 2/150\n",
      "546/546 [==============================] - 1s 961us/step - loss: 0.1443 - accuracy: 0.9688\n",
      "Epoch 3/150\n",
      "546/546 [==============================] - 1s 1ms/step - loss: 0.1448 - accuracy: 0.9688\n",
      "Epoch 4/150\n",
      "546/546 [==============================] - 0s 913us/step - loss: 0.1446 - accuracy: 0.9688\n",
      "Epoch 5/150\n",
      "546/546 [==============================] - 0s 895us/step - loss: 0.1448 - accuracy: 0.9688\n",
      "Epoch 6/150\n",
      "546/546 [==============================] - 1s 976us/step - loss: 0.1442 - accuracy: 0.9688\n",
      "Epoch 7/150\n",
      "546/546 [==============================] - 1s 951us/step - loss: 0.1437 - accuracy: 0.9688\n",
      "Epoch 8/150\n",
      "546/546 [==============================] - 1s 922us/step - loss: 0.1431 - accuracy: 0.9688\n",
      "Epoch 9/150\n",
      "546/546 [==============================] - 1s 1ms/step - loss: 0.1429 - accuracy: 0.9688\n",
      "Epoch 10/150\n",
      "546/546 [==============================] - 1s 1ms/step - loss: 0.1423 - accuracy: 0.9688\n",
      "Epoch 11/150\n",
      "546/546 [==============================] - 1s 1ms/step - loss: 0.1419 - accuracy: 0.9688\n",
      "Epoch 12/150\n",
      "546/546 [==============================] - 1s 1ms/step - loss: 0.1414 - accuracy: 0.9688\n",
      "Epoch 13/150\n",
      "546/546 [==============================] - 0s 904us/step - loss: 0.1412 - accuracy: 0.9688\n",
      "Epoch 14/150\n",
      "546/546 [==============================] - 1s 1ms/step - loss: 0.1412 - accuracy: 0.9688\n",
      "Epoch 15/150\n",
      "546/546 [==============================] - 1s 972us/step - loss: 0.1409 - accuracy: 0.9688\n",
      "Epoch 16/150\n",
      "546/546 [==============================] - 1s 1ms/step - loss: 0.1406 - accuracy: 0.9688\n",
      "Epoch 17/150\n",
      "546/546 [==============================] - 1s 940us/step - loss: 0.1404 - accuracy: 0.9688\n",
      "Epoch 18/150\n",
      "546/546 [==============================] - 1s 956us/step - loss: 0.1402 - accuracy: 0.9688\n",
      "Epoch 19/150\n",
      "546/546 [==============================] - 1s 919us/step - loss: 0.1400 - accuracy: 0.9688\n",
      "Epoch 20/150\n",
      "546/546 [==============================] - 0s 872us/step - loss: 0.1400 - accuracy: 0.9688\n",
      "Epoch 21/150\n",
      "546/546 [==============================] - 1s 924us/step - loss: 0.1398 - accuracy: 0.9688\n",
      "Epoch 22/150\n",
      "546/546 [==============================] - 1s 946us/step - loss: 0.1397 - accuracy: 0.9688\n",
      "Epoch 23/150\n",
      "546/546 [==============================] - 1s 934us/step - loss: 0.1396 - accuracy: 0.9688\n",
      "Epoch 24/150\n",
      "546/546 [==============================] - 0s 913us/step - loss: 0.1394 - accuracy: 0.9688\n",
      "Epoch 25/150\n",
      "546/546 [==============================] - 1s 922us/step - loss: 0.1393 - accuracy: 0.9688\n",
      "Epoch 26/150\n",
      "546/546 [==============================] - 1s 975us/step - loss: 0.1393 - accuracy: 0.9688\n",
      "Epoch 27/150\n",
      "546/546 [==============================] - 0s 904us/step - loss: 0.1392 - accuracy: 0.9688\n",
      "Epoch 28/150\n",
      "546/546 [==============================] - 1s 964us/step - loss: 0.1392 - accuracy: 0.9688\n",
      "Epoch 29/150\n",
      "546/546 [==============================] - 1s 961us/step - loss: 0.1391 - accuracy: 0.9688\n",
      "Epoch 30/150\n",
      "546/546 [==============================] - 1s 984us/step - loss: 0.1390 - accuracy: 0.9688\n",
      "Epoch 31/150\n",
      "546/546 [==============================] - 0s 845us/step - loss: 0.1390 - accuracy: 0.9688\n",
      "Epoch 32/150\n",
      "546/546 [==============================] - 0s 846us/step - loss: 0.1389 - accuracy: 0.9688\n",
      "Epoch 33/150\n",
      "546/546 [==============================] - 0s 911us/step - loss: 0.1389 - accuracy: 0.9688\n",
      "Epoch 34/150\n",
      "546/546 [==============================] - 1s 1ms/step - loss: 0.1388 - accuracy: 0.9688\n",
      "Epoch 35/150\n",
      "546/546 [==============================] - 0s 865us/step - loss: 0.1387 - accuracy: 0.9688\n",
      "Epoch 36/150\n",
      "546/546 [==============================] - 1s 971us/step - loss: 0.1387 - accuracy: 0.9688\n",
      "Epoch 37/150\n",
      "546/546 [==============================] - 0s 900us/step - loss: 0.1386 - accuracy: 0.9688\n",
      "Epoch 38/150\n",
      "546/546 [==============================] - 0s 895us/step - loss: 0.1388 - accuracy: 0.9688\n",
      "Epoch 39/150\n",
      "546/546 [==============================] - 1s 952us/step - loss: 0.1387 - accuracy: 0.9688\n",
      "Epoch 40/150\n",
      "546/546 [==============================] - 1s 937us/step - loss: 0.1386 - accuracy: 0.9688\n",
      "Epoch 41/150\n",
      "546/546 [==============================] - 0s 878us/step - loss: 0.1385 - accuracy: 0.9688\n",
      "Epoch 42/150\n",
      "546/546 [==============================] - 1s 950us/step - loss: 0.1385 - accuracy: 0.9688\n",
      "Epoch 43/150\n",
      "546/546 [==============================] - 0s 860us/step - loss: 0.1385 - accuracy: 0.9688\n",
      "Epoch 44/150\n",
      "546/546 [==============================] - 0s 863us/step - loss: 0.1385 - accuracy: 0.9688\n",
      "Epoch 45/150\n",
      "546/546 [==============================] - 1s 953us/step - loss: 0.1385 - accuracy: 0.9688\n",
      "Epoch 46/150\n",
      "546/546 [==============================] - 1s 961us/step - loss: 0.1385 - accuracy: 0.9688\n",
      "Epoch 47/150\n",
      "546/546 [==============================] - 1s 922us/step - loss: 0.1383 - accuracy: 0.9688\n",
      "Epoch 48/150\n",
      "546/546 [==============================] - 0s 897us/step - loss: 0.1383 - accuracy: 0.9688\n",
      "Epoch 49/150\n",
      "546/546 [==============================] - 0s 906us/step - loss: 0.1383 - accuracy: 0.9688\n",
      "Epoch 50/150\n",
      "546/546 [==============================] - 1s 950us/step - loss: 0.1383 - accuracy: 0.9688\n",
      "Epoch 51/150\n",
      "546/546 [==============================] - 0s 848us/step - loss: 0.1383 - accuracy: 0.9688\n",
      "Epoch 52/150\n",
      "546/546 [==============================] - 0s 829us/step - loss: 0.1383 - accuracy: 0.9688\n",
      "Epoch 53/150\n",
      "546/546 [==============================] - 0s 891us/step - loss: 0.1383 - accuracy: 0.9688\n",
      "Epoch 54/150\n",
      "546/546 [==============================] - 1s 922us/step - loss: 0.1382 - accuracy: 0.9688\n",
      "Epoch 55/150\n",
      "546/546 [==============================] - 0s 880us/step - loss: 0.1382 - accuracy: 0.9688\n",
      "Epoch 56/150\n",
      "546/546 [==============================] - 0s 855us/step - loss: 0.1382 - accuracy: 0.9688\n",
      "Epoch 57/150\n",
      "546/546 [==============================] - 0s 861us/step - loss: 0.1382 - accuracy: 0.9688\n",
      "Epoch 58/150\n",
      "546/546 [==============================] - 1s 983us/step - loss: 0.1382 - accuracy: 0.9688\n",
      "Epoch 59/150\n",
      "546/546 [==============================] - 1s 980us/step - loss: 0.1382 - accuracy: 0.9688\n",
      "Epoch 60/150\n",
      "546/546 [==============================] - 0s 853us/step - loss: 0.1382 - accuracy: 0.9688\n",
      "Epoch 61/150\n",
      "546/546 [==============================] - 0s 850us/step - loss: 0.1382 - accuracy: 0.9688\n",
      "Epoch 62/150\n",
      "546/546 [==============================] - 1s 1ms/step - loss: 0.1381 - accuracy: 0.9688\n",
      "Epoch 63/150\n",
      "546/546 [==============================] - 1s 981us/step - loss: 0.1381 - accuracy: 0.9688\n",
      "Epoch 64/150\n",
      "546/546 [==============================] - 0s 882us/step - loss: 0.1381 - accuracy: 0.9688\n",
      "Epoch 65/150\n",
      "546/546 [==============================] - 1s 952us/step - loss: 0.1380 - accuracy: 0.9688\n",
      "Epoch 66/150\n",
      "546/546 [==============================] - 1s 966us/step - loss: 0.1381 - accuracy: 0.9688\n",
      "Epoch 67/150\n",
      "546/546 [==============================] - 1s 968us/step - loss: 0.1378 - accuracy: 0.9688\n",
      "Epoch 68/150\n",
      "546/546 [==============================] - 1s 985us/step - loss: 0.1381 - accuracy: 0.9688\n",
      "Epoch 69/150\n",
      "546/546 [==============================] - 1s 947us/step - loss: 0.1380 - accuracy: 0.9688\n",
      "Epoch 70/150\n",
      "546/546 [==============================] - 1s 962us/step - loss: 0.1380 - accuracy: 0.9688\n",
      "Epoch 71/150\n",
      "546/546 [==============================] - 1s 960us/step - loss: 0.1381 - accuracy: 0.9688\n",
      "Epoch 72/150\n",
      "546/546 [==============================] - 1s 951us/step - loss: 0.1380 - accuracy: 0.9688\n",
      "Epoch 73/150\n",
      "546/546 [==============================] - 1s 959us/step - loss: 0.1381 - accuracy: 0.9688\n",
      "Epoch 74/150\n",
      "546/546 [==============================] - 0s 903us/step - loss: 0.1380 - accuracy: 0.9688\n",
      "Epoch 75/150\n",
      "546/546 [==============================] - 1s 914us/step - loss: 0.1380 - accuracy: 0.9688\n",
      "Epoch 76/150\n",
      "546/546 [==============================] - 1s 970us/step - loss: 0.1379 - accuracy: 0.9688\n",
      "Epoch 77/150\n",
      "546/546 [==============================] - 0s 894us/step - loss: 0.1380 - accuracy: 0.9688\n",
      "Epoch 78/150\n",
      "546/546 [==============================] - 1s 981us/step - loss: 0.1379 - accuracy: 0.9688\n",
      "Epoch 79/150\n",
      "546/546 [==============================] - 1s 1ms/step - loss: 0.1378 - accuracy: 0.9688\n",
      "Epoch 80/150\n"
     ]
    },
    {
     "name": "stdout",
     "output_type": "stream",
     "text": [
      "546/546 [==============================] - 1s 977us/step - loss: 0.1378 - accuracy: 0.9688\n",
      "Epoch 81/150\n",
      "546/546 [==============================] - 0s 876us/step - loss: 0.1378 - accuracy: 0.9688\n",
      "Epoch 82/150\n",
      "546/546 [==============================] - 0s 877us/step - loss: 0.1379 - accuracy: 0.9688\n",
      "Epoch 83/150\n",
      "546/546 [==============================] - 1s 983us/step - loss: 0.1379 - accuracy: 0.9688\n",
      "Epoch 84/150\n",
      "546/546 [==============================] - 1s 926us/step - loss: 0.1378 - accuracy: 0.9688\n",
      "Epoch 85/150\n",
      "546/546 [==============================] - 0s 886us/step - loss: 0.1378 - accuracy: 0.9688\n",
      "Epoch 86/150\n",
      "546/546 [==============================] - 0s 908us/step - loss: 0.1378 - accuracy: 0.9688\n",
      "Epoch 87/150\n",
      "546/546 [==============================] - 1s 1ms/step - loss: 0.1378 - accuracy: 0.9688\n",
      "Epoch 88/150\n",
      "546/546 [==============================] - 1s 1ms/step - loss: 0.1378 - accuracy: 0.9688\n",
      "Epoch 89/150\n",
      "546/546 [==============================] - 1s 1ms/step - loss: 0.1378 - accuracy: 0.9688\n",
      "Epoch 90/150\n",
      "546/546 [==============================] - 1s 1ms/step - loss: 0.1378 - accuracy: 0.9688\n",
      "Epoch 91/150\n",
      "546/546 [==============================] - 0s 888us/step - loss: 0.1378 - accuracy: 0.9688\n",
      "Epoch 92/150\n",
      "546/546 [==============================] - 0s 878us/step - loss: 0.1377 - accuracy: 0.9688\n",
      "Epoch 93/150\n",
      "546/546 [==============================] - 0s 901us/step - loss: 0.1378 - accuracy: 0.9688\n",
      "Epoch 94/150\n",
      "546/546 [==============================] - 1s 1ms/step - loss: 0.1378 - accuracy: 0.9688\n",
      "Epoch 95/150\n",
      "546/546 [==============================] - 1s 931us/step - loss: 0.1377 - accuracy: 0.9688\n",
      "Epoch 96/150\n",
      "546/546 [==============================] - 0s 899us/step - loss: 0.1377 - accuracy: 0.9688\n",
      "Epoch 97/150\n",
      "546/546 [==============================] - 1s 982us/step - loss: 0.1377 - accuracy: 0.9688\n",
      "Epoch 98/150\n",
      "546/546 [==============================] - 1s 936us/step - loss: 0.1377 - accuracy: 0.9688\n",
      "Epoch 99/150\n",
      "546/546 [==============================] - 0s 912us/step - loss: 0.1376 - accuracy: 0.9688\n",
      "Epoch 100/150\n",
      "546/546 [==============================] - 1s 1ms/step - loss: 0.1378 - accuracy: 0.9688\n",
      "Epoch 101/150\n",
      "546/546 [==============================] - 1s 941us/step - loss: 0.1376 - accuracy: 0.9688\n",
      "Epoch 102/150\n",
      "546/546 [==============================] - 1s 940us/step - loss: 0.1377 - accuracy: 0.9688\n",
      "Epoch 103/150\n",
      "546/546 [==============================] - 0s 903us/step - loss: 0.1377 - accuracy: 0.9688\n",
      "Epoch 104/150\n",
      "546/546 [==============================] - 1s 918us/step - loss: 0.1377 - accuracy: 0.9688\n",
      "Epoch 105/150\n",
      "546/546 [==============================] - 1s 956us/step - loss: 0.1377 - accuracy: 0.9688\n",
      "Epoch 106/150\n",
      "546/546 [==============================] - 1s 942us/step - loss: 0.1377 - accuracy: 0.9688\n",
      "Epoch 107/150\n",
      "546/546 [==============================] - 1s 919us/step - loss: 0.1377 - accuracy: 0.9688\n",
      "Epoch 108/150\n",
      "546/546 [==============================] - 1s 940us/step - loss: 0.1375 - accuracy: 0.9688\n",
      "Epoch 109/150\n",
      "546/546 [==============================] - 0s 893us/step - loss: 0.1376 - accuracy: 0.9688\n",
      "Epoch 110/150\n",
      "546/546 [==============================] - 0s 868us/step - loss: 0.1376 - accuracy: 0.9688\n",
      "Epoch 111/150\n",
      "546/546 [==============================] - 1s 929us/step - loss: 0.1376 - accuracy: 0.9688\n",
      "Epoch 112/150\n",
      "546/546 [==============================] - 0s 888us/step - loss: 0.1376 - accuracy: 0.9688\n",
      "Epoch 113/150\n",
      "546/546 [==============================] - 1s 983us/step - loss: 0.1375 - accuracy: 0.9688\n",
      "Epoch 114/150\n",
      "546/546 [==============================] - 0s 880us/step - loss: 0.1376 - accuracy: 0.9688\n",
      "Epoch 115/150\n",
      "546/546 [==============================] - 0s 889us/step - loss: 0.1376 - accuracy: 0.9688\n",
      "Epoch 116/150\n",
      "546/546 [==============================] - 0s 870us/step - loss: 0.1375 - accuracy: 0.9688\n",
      "Epoch 117/150\n",
      "546/546 [==============================] - 1s 928us/step - loss: 0.1376 - accuracy: 0.9688\n",
      "Epoch 118/150\n",
      "546/546 [==============================] - 0s 877us/step - loss: 0.1376 - accuracy: 0.9688\n",
      "Epoch 119/150\n",
      "546/546 [==============================] - 0s 872us/step - loss: 0.1375 - accuracy: 0.9688\n",
      "Epoch 120/150\n",
      "546/546 [==============================] - 0s 866us/step - loss: 0.1376 - accuracy: 0.9688\n",
      "Epoch 121/150\n",
      "546/546 [==============================] - 1s 934us/step - loss: 0.1375 - accuracy: 0.9688\n",
      "Epoch 122/150\n",
      "546/546 [==============================] - 0s 892us/step - loss: 0.1375 - accuracy: 0.9688\n",
      "Epoch 123/150\n",
      "546/546 [==============================] - 0s 870us/step - loss: 0.1375 - accuracy: 0.9688\n",
      "Epoch 124/150\n",
      "546/546 [==============================] - 0s 888us/step - loss: 0.1376 - accuracy: 0.9688\n",
      "Epoch 125/150\n",
      "546/546 [==============================] - 1s 924us/step - loss: 0.1375 - accuracy: 0.9688\n",
      "Epoch 126/150\n",
      "546/546 [==============================] - 0s 889us/step - loss: 0.1376 - accuracy: 0.9688\n",
      "Epoch 127/150\n",
      "546/546 [==============================] - 0s 893us/step - loss: 0.1375 - accuracy: 0.9688\n",
      "Epoch 128/150\n",
      "546/546 [==============================] - 0s 872us/step - loss: 0.1375 - accuracy: 0.9688\n",
      "Epoch 129/150\n",
      "546/546 [==============================] - 0s 903us/step - loss: 0.1375 - accuracy: 0.9688\n",
      "Epoch 130/150\n",
      "546/546 [==============================] - 1s 920us/step - loss: 0.1375 - accuracy: 0.9688\n",
      "Epoch 131/150\n",
      "546/546 [==============================] - 0s 874us/step - loss: 0.1375 - accuracy: 0.9688\n",
      "Epoch 132/150\n",
      "546/546 [==============================] - 0s 895us/step - loss: 0.1375 - accuracy: 0.9688\n",
      "Epoch 133/150\n",
      "546/546 [==============================] - 0s 903us/step - loss: 0.1374 - accuracy: 0.9688\n",
      "Epoch 134/150\n",
      "546/546 [==============================] - 1s 915us/step - loss: 0.1375 - accuracy: 0.9688\n",
      "Epoch 135/150\n",
      "546/546 [==============================] - 0s 884us/step - loss: 0.1374 - accuracy: 0.9688\n",
      "Epoch 136/150\n",
      "546/546 [==============================] - 1s 1ms/step - loss: 0.1374 - accuracy: 0.9688\n",
      "Epoch 137/150\n",
      "546/546 [==============================] - 1s 1ms/step - loss: 0.1374 - accuracy: 0.9688\n",
      "Epoch 138/150\n",
      "546/546 [==============================] - 1s 1ms/step - loss: 0.1374 - accuracy: 0.9688\n",
      "Epoch 139/150\n",
      "546/546 [==============================] - 1s 1ms/step - loss: 0.1374 - accuracy: 0.9688\n",
      "Epoch 140/150\n",
      "546/546 [==============================] - 1s 1ms/step - loss: 0.1373 - accuracy: 0.9688\n",
      "Epoch 141/150\n",
      "546/546 [==============================] - 1s 1ms/step - loss: 0.1374 - accuracy: 0.9688\n",
      "Epoch 142/150\n",
      "546/546 [==============================] - 1s 1ms/step - loss: 0.1374 - accuracy: 0.9688\n",
      "Epoch 143/150\n",
      "546/546 [==============================] - 1s 1ms/step - loss: 0.1375 - accuracy: 0.9688\n",
      "Epoch 144/150\n",
      "546/546 [==============================] - 1s 1ms/step - loss: 0.1374 - accuracy: 0.9688\n",
      "Epoch 145/150\n",
      "546/546 [==============================] - 1s 1ms/step - loss: 0.1374 - accuracy: 0.9688\n",
      "Epoch 146/150\n",
      "546/546 [==============================] - 1s 1ms/step - loss: 0.1374 - accuracy: 0.9688\n",
      "Epoch 147/150\n",
      "546/546 [==============================] - 1s 1ms/step - loss: 0.1374 - accuracy: 0.9688\n",
      "Epoch 148/150\n",
      "546/546 [==============================] - 1s 1ms/step - loss: 0.1374 - accuracy: 0.9688\n",
      "Epoch 149/150\n",
      "546/546 [==============================] - 1s 1ms/step - loss: 0.1374 - accuracy: 0.9688\n",
      "Epoch 150/150\n",
      "546/546 [==============================] - 1s 1ms/step - loss: 0.1373 - accuracy: 0.9688\n"
     ]
    }
   ],
   "source": [
    "# fit the keras model on the dataset\n",
    "history = model.fit(X_train, y_train, epochs=150, batch_size=10)"
   ]
  },
  {
   "cell_type": "code",
   "execution_count": 89,
   "id": "688ec4fd",
   "metadata": {},
   "outputs": [
    {
     "name": "stdout",
     "output_type": "stream",
     "text": [
      "43/43 [==============================] - 0s 1ms/step - loss: 0.1594 - accuracy: 0.9633\n"
     ]
    },
    {
     "data": {
      "text/plain": [
       "[0.15937215089797974, 0.96334308385849]"
      ]
     },
     "execution_count": 89,
     "metadata": {},
     "output_type": "execute_result"
    }
   ],
   "source": [
    "model.evaluate(X_test, y_test)"
   ]
  },
  {
   "cell_type": "code",
   "execution_count": 90,
   "id": "91d32954",
   "metadata": {},
   "outputs": [
    {
     "data": {
      "text/plain": [
       "<matplotlib.legend.Legend at 0x2328c725cf0>"
      ]
     },
     "execution_count": 90,
     "metadata": {},
     "output_type": "execute_result"
    },
    {
     "data": {
      "image/png": "[encoded data removed]",
      "text/plain": [
       "<Figure size 432x288 with 1 Axes>"
      ]
     },
     "metadata": {
      "needs_background": "light"
     },
     "output_type": "display_data"
    }
   ],
   "source": [
    "plt.plot(history.history['accuracy'])\n",
    "plt.legend(['accuracy'])"
   ]
  },
  {
   "cell_type": "code",
   "execution_count": 99,
   "id": "83377273",
   "metadata": {},
   "outputs": [],
   "source": [
    "X = data[data.columns.drop('Bankrupt?')]\n",
    "y = data[\"Bankrupt?\"]\n",
    "history = model.fit(data[data.columns.drop('Bankrupt?')],data[\"Bankrupt?\"], verbose = 0,\n",
    "                    validation_split = 0.2, # split data in 80-20 sets\n",
    "                    epochs = 600,\n",
    "                    batch_size = 600)"
   ]
  },
  {
   "cell_type": "code",
   "execution_count": 100,
   "id": "af7e5789",
   "metadata": {},
   "outputs": [
    {
     "data": {
      "text/plain": [
       "<matplotlib.legend.Legend at 0x2328ca9c4f0>"
      ]
     },
     "execution_count": 100,
     "metadata": {},
     "output_type": "execute_result"
    },
    {
     "data": {
      "image/png": "[encoded data removed]",
      "text/plain": [
       "<Figure size 432x288 with 1 Axes>"
      ]
     },
     "metadata": {
      "needs_background": "light"
     },
     "output_type": "display_data"
    }
   ],
   "source": [
    "model = Sequential()\n",
    "model.add(Dense(12, input_dim=95, activation='sigmoid'))\n",
    "model.add(Dense(1, activation='sigmoid'))\n",
    "model.compile(loss='binary_crossentropy', optimizer='adam', metrics=['accuracy'])\n",
    "\n",
    "history = model.fit(X, y, verbose = 0,\n",
    "                    validation_split = 0.2, # split your data in 80-20 train-test sets\n",
    "                    epochs = 600,\n",
    "                    batch_size = 128)\n",
    "\n",
    "# plot the model accuracy and validation accuracy\n",
    "plt.plot(history.history['accuracy'])\n",
    "plt.plot(history.history['val_accuracy'])\n",
    "plt.legend(['accuracy','validation accuracy'])"
   ]
  },
  {
   "cell_type": "code",
   "execution_count": null,
   "id": "171b01a2",
   "metadata": {},
   "outputs": [],
   "source": [
    "# Q3: Build a deep NN model with multiple hidden layers (of your choice) and sigmoid activation function."
   ]
  },
  {
   "cell_type": "code",
   "execution_count": 102,
   "id": "d12162d1",
   "metadata": {},
   "outputs": [
    {
     "data": {
      "text/plain": [
       "<matplotlib.legend.Legend at 0x2328c9c8550>"
      ]
     },
     "execution_count": 102,
     "metadata": {},
     "output_type": "execute_result"
    },
    {
     "data": {
      "image/png": "[encoded data removed]",
      "text/plain": [
       "<Figure size 432x288 with 1 Axes>"
      ]
     },
     "metadata": {
      "needs_background": "light"
     },
     "output_type": "display_data"
    }
   ],
   "source": [
    "X = data[data.columns.drop('Bankrupt?')]\n",
    "y = data[\"Bankrupt?\"]\n",
    "history = model.fit(data[data.columns.drop('Bankrupt?')],data[\"Bankrupt?\"], verbose = 0,\n",
    "                    validation_split = 0.2, # split data in 80-20 sets\n",
    "                    epochs = 600,\n",
    "                    batch_size = 600)\n",
    "model = Sequential()\n",
    "model.add(Dense(20, input_dim=95, activation='sigmoid'))\n",
    "model.add(Dense(20, input_dim=95, activation='sigmoid'))\n",
    "model.add(Dense(1, activation='sigmoid'))\n",
    "model.compile(loss='binary_crossentropy', optimizer='adam', metrics=['accuracy'])\n",
    "\n",
    "history = model.fit(X, y, verbose = 0,\n",
    "                    validation_split = 0.2, # split your data in 80-20 train-test sets\n",
    "                    epochs = 600,\n",
    "                    batch_size = 128)\n",
    "\n",
    "# plot the model accuracy and validation accuracy\n",
    "plt.plot(history.history['accuracy'])\n",
    "plt.plot(history.history['val_accuracy'])\n",
    "plt.legend(['accuracy','validation accuracy'])"
   ]
  },
  {
   "cell_type": "code",
   "execution_count": null,
   "id": "040e4472",
   "metadata": {},
   "outputs": [],
   "source": [
    "# Q4: Build 5 other classification models and compare with the 2 previous NN models."
   ]
  },
  {
   "cell_type": "code",
   "execution_count": 112,
   "id": "577410bd",
   "metadata": {},
   "outputs": [
    {
     "name": "stderr",
     "output_type": "stream",
     "text": [
      "C:\\tools\\Anaconda3\\envs\\py1\\lib\\site-packages\\sklearn\\linear_model\\_logistic.py:814: ConvergenceWarning: lbfgs failed to converge (status=1):\n",
      "STOP: TOTAL NO. of ITERATIONS REACHED LIMIT.\n",
      "\n",
      "Increase the number of iterations (max_iter) or scale the data as shown in:\n",
      "    https://scikit-learn.org/stable/modules/preprocessing.html\n",
      "Please also refer to the documentation for alternative solver options:\n",
      "    https://scikit-learn.org/stable/modules/linear_model.html#logistic-regression\n",
      "  n_iter_i = _check_optimize_result(\n"
     ]
    },
    {
     "name": "stdout",
     "output_type": "stream",
     "text": [
      "LogisticRegression  0.9618768328445748\n",
      "SVM  0.9633431085043989\n",
      "RandomForestClassifier  0.9640762463343109\n"
     ]
    },
    {
     "name": "stderr",
     "output_type": "stream",
     "text": [
      "C:\\tools\\Anaconda3\\envs\\py1\\lib\\site-packages\\sklearn\\neural_network\\_multilayer_perceptron.py:549: ConvergenceWarning: lbfgs failed to converge (status=2):\n",
      "ABNORMAL_TERMINATION_IN_LNSRCH.\n",
      "\n",
      "Increase the number of iterations (max_iter) or scale the data as shown in:\n",
      "    https://scikit-learn.org/stable/modules/preprocessing.html\n",
      "  self.n_iter_ = _check_optimize_result(\"lbfgs\", opt_res, self.max_iter)\n"
     ]
    },
    {
     "name": "stdout",
     "output_type": "stream",
     "text": [
      "MLPClassifier  0.35777126099706746\n",
      "KNN  0.9626099706744868\n"
     ]
    }
   ],
   "source": [
    "import pandas as pd\n",
    "import sklearn as sk\n",
    "from sklearn.linear_model import LogisticRegression\n",
    "from sklearn import svm\n",
    "from sklearn.ensemble import RandomForestClassifier\n",
    "from sklearn.neural_network import MLPClassifier\n",
    "from sklearn.neighbors import KNeighborsClassifier\n",
    "\n",
    "LR = LogisticRegression(random_state=0, solver='lbfgs', multi_class='multinomial').fit(X_train, y_train)\n",
    "LR.predict(X_test)\n",
    "print( \"LogisticRegression \", LR.score(X_test,y_test) )\n",
    "\n",
    "SVM = svm.SVC(decision_function_shape=\"ovo\").fit(X_train, y_train)\n",
    "SVM.predict(X_test)\n",
    "print( \"SVM \", SVM.score(X_test, y_test))\n",
    "\n",
    "RF = RandomForestClassifier(n_estimators=1000, max_depth=10, random_state=0).fit(X_train, y_train)\n",
    "RF.predict(X_test)\n",
    "print(\"RandomForestClassifier \", RF.score(X_test, y_test))\n",
    "\n",
    "NN = MLPClassifier(solver='lbfgs', alpha=1e-5, hidden_layer_sizes=(150, 10), random_state=1).fit(X_train, y_train)\n",
    "NN.predict(X_test)\n",
    "print(\"MLPClassifier \", NN.score(X_test, y_test))\n",
    "\n",
    "KNN = KNeighborsClassifier().fit(X_train, y_train)\n",
    "KNN.predict(X_test)\n",
    "print(\"KNN \", KNN.score(X_test, y_test))\n"
   ]
  },
  {
   "cell_type": "code",
   "execution_count": 113,
   "id": "0b809b1c",
   "metadata": {},
   "outputs": [],
   "source": [
    "# when comparing accuracy between these 5 classification models and Neural Networks (Keras), \n",
    "# we can see that is almost the same comparing to Logistic Regression, SVM and Random Forest."
   ]
  },
  {
   "cell_type": "code",
   "execution_count": null,
   "id": "e117c89b",
   "metadata": {},
   "outputs": [],
   "source": []
  },
  {
   "cell_type": "code",
   "execution_count": null,
   "id": "fc7c16c5",
   "metadata": {},
   "outputs": [],
   "source": []
  },
  {
   "cell_type": "code",
   "execution_count": null,
   "id": "d368a783",
   "metadata": {},
   "outputs": [],
   "source": []
  },
  {
   "cell_type": "code",
   "execution_count": null,
   "id": "ac71a8df",
   "metadata": {},
   "outputs": [],
   "source": [
    "# References:"
   ]
  },
  {
   "cell_type": "code",
   "execution_count": 101,
   "id": "4755deef",
   "metadata": {},
   "outputs": [],
   "source": [
    "# https://towardsdatascience.com/addressing-the-difference-between-keras-validation-split-and-sklearn-s-train-test-split-a3fb803b733"
   ]
  },
  {
   "cell_type": "code",
   "execution_count": 64,
   "id": "a3acaf3a",
   "metadata": {},
   "outputs": [],
   "source": [
    "# https://12ft.io/proxy?q=https://towardsdatascience.com/deep-learning-with-python-neural-networks-complete-tutorial-6b53c0b06af0"
   ]
  }
 ],
 "metadata": {
  "kernelspec": {
   "display_name": "Python 3 (ipykernel)",
   "language": "python",
   "name": "python3"
  },
  "language_info": {
   "codemirror_mode": {
    "name": "ipython",
    "version": 3
   },
   "file_extension": ".py",
   "mimetype": "text/x-python",
   "name": "python",
   "nbconvert_exporter": "python",
   "pygments_lexer": "ipython3",
   "version": "3.10.2"
  }
 },
 "nbformat": 4,
 "nbformat_minor": 5
}
