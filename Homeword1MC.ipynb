{
 "cells": [
  {
   "cell_type": "markdown",
   "metadata": {},
   "source": [
    "![ieseg logo](./img/ieseg.png)\n",
    "\n",
    "#### MBD 2021-2022\n",
    "# Statistical & Machine Learning Approaches for Marketing\n",
    "\n",
    "## Section 1: Introduction & Linear Regression"
   ]
  },
  {
   "cell_type": "markdown",
   "metadata": {},
   "source": [
    "### 1. Import all required libraries and datasets"
   ]
  },
  {
   "cell_type": "code",
   "execution_count": 1,
   "metadata": {},
   "outputs": [
    {
     "name": "stderr",
     "output_type": "stream",
     "text": [
      "Loading required package: ParamHelpers\n",
      "\n",
      "Warning message: 'mlr' is in 'maintenance-only' mode since July 2019.\n",
      "Future development will only happen in 'mlr3'\n",
      "(<https://mlr3.mlr-org.com>). Due to the focus on 'mlr3' there might be\n",
      "uncaught bugs meanwhile in {mlr} - please consider switching.\n",
      "\n",
      "Loading required package: ggplot2\n",
      "\n",
      "Loading required package: lattice\n",
      "\n",
      "\n",
      "Attaching package: 'caret'\n",
      "\n",
      "\n",
      "The following object is masked from 'package:mlr':\n",
      "\n",
      "    train\n",
      "\n",
      "\n",
      "\n",
      "Attaching package: 'rgl'\n",
      "\n",
      "\n",
      "The following object is masked from 'package:plotrix':\n",
      "\n",
      "    mtext3d\n",
      "\n",
      "\n"
     ]
    },
    {
     "data": {
      "text/html": [
       "'R version 4.0.5 (2021-03-31)'"
      ],
      "text/latex": [
       "'R version 4.0.5 (2021-03-31)'"
      ],
      "text/markdown": [
       "'R version 4.0.5 (2021-03-31)'"
      ],
      "text/plain": [
       "[1] \"R version 4.0.5 (2021-03-31)\""
      ]
     },
     "metadata": {},
     "output_type": "display_data"
    }
   ],
   "source": [
    "# Set environment params\n",
    "Sys.setenv(LANG='en')  # English\n",
    "\n",
    "# Import libraries\n",
    "library(data.table)  # Data manipulate\n",
    "library(mlr)         # ML toolkit\n",
    "library(caret)       # ML toolkit\n",
    "library(ggplot2)     # Visualization\n",
    "library(plotrix)     # Draw circle\n",
    "library(rgl)         # 3D plots\n",
    "\n",
    "# Dataset\n",
    "library(ISLR)      # Data from the course book\n",
    "library(MASS)      # Boston housing dataset\n",
    "library(datasets)  # US crime dataset\n",
    "\n",
    "# Resize plot\n",
    "library(repr)  # String and binary representations\n",
    "# options(repr.plot.width=4, repr.plot.height=4)\n",
    "\n",
    "R.version.string"
   ]
  },
  {
   "cell_type": "code",
   "execution_count": 2,
   "metadata": {},
   "outputs": [
    {
     "name": "stderr",
     "output_type": "stream",
     "text": [
      "Warning message:\n",
      "\"packages 'data.table', 'mlr', 'caret', 'ggplot2', 'plotrix', 'rgl', 'ISLR', 'MASS', 'datasets' are in use and will not be installed\"\n"
     ]
    }
   ],
   "source": [
    "# Install missing packages\n",
    "install.packages(c(\"data.table\", \"mlr\", \"caret\", \"ggplot2\", \"plotrix\", \"rgl\", \"ISLR\", \"MASS\", \"datasets\"))"
   ]
  },
  {
   "cell_type": "markdown",
   "metadata": {},
   "source": [
    "## Homework\n",
    "- Exercise 2 (p.52, Chap.2), 10 (p.56, Chap.2), 3 (p.120, Chap.3), 10 (p.123, Chap.3) and 15 (p.126, Chap.3)."
   ]
  },
  {
   "cell_type": "code",
   "execution_count": 70,
   "metadata": {},
   "outputs": [],
   "source": [
    "# Exercise 2 (p.52, Chap.2)\n",
    "\n",
    "# 2. Explain whether each scenario is a classification or regression prob\u0002lem, and indicate whether we are most interested in inference or pre\u0002diction. Finally, provide n and p.\n",
    "# (a) We collect a set of data on the top 500 firms in the US. For each\n",
    "# firm we record profit, number of employees, industry and the\n",
    "# CEO salary. We are interested in understanding which factors\n",
    "# affect CEO salary.\n",
    "# \n",
    "\n",
    "\n"
   ]
  },
  {
   "cell_type": "code",
   "execution_count": null,
   "metadata": {},
   "outputs": [],
   "source": [
    "# (b) We are considering launching a new product and wish to know\n",
    "# whether it will be a success or a failure. We collect data on 20\n",
    "# similar products that were previously launched. For each prod\u0002uct we have recorded whether it was a success or failure, price\n",
    "# charged for the product, marketing budget, competition price,\n",
    "# and ten other variables.\n",
    "# (c) We are interesting in predicting the % change in the US dollar in\n",
    "# relation to the weekly changes in the world stock markets. Hence\n",
    "# we collect weekly data for all of 2012. For each week we record\n",
    "# the % change in the dollar, the % change in the US market,\n",
    "# the % change in the British market, and the % change in the\n",
    "# German market"
   ]
  },
  {
   "cell_type": "code",
   "execution_count": null,
   "metadata": {},
   "outputs": [],
   "source": []
  },
  {
   "cell_type": "code",
   "execution_count": null,
   "metadata": {},
   "outputs": [],
   "source": []
  },
  {
   "cell_type": "markdown",
   "metadata": {},
   "source": [
    "# 10 (p.56, Chap.2)"
   ]
  },
  {
   "cell_type": "code",
   "execution_count": null,
   "metadata": {},
   "outputs": [],
   "source": []
  },
  {
   "cell_type": "code",
   "execution_count": 26,
   "metadata": {},
   "outputs": [
    {
     "data": {
      "text/html": [
       "506"
      ],
      "text/latex": [
       "506"
      ],
      "text/markdown": [
       "506"
      ],
      "text/plain": [
       "[1] 506"
      ]
     },
     "metadata": {},
     "output_type": "display_data"
    },
    {
     "data": {
      "text/html": [
       "14"
      ],
      "text/latex": [
       "14"
      ],
      "text/markdown": [
       "14"
      ],
      "text/plain": [
       "[1] 14"
      ]
     },
     "metadata": {},
     "output_type": "display_data"
    }
   ],
   "source": [
    "# 10 (p.56, Chap.2)\n",
    "library(MASS)\n",
    "# Boston\n",
    "?Boston\n",
    "nrow(Boston)\n",
    "ncol(Boston)"
   ]
  },
  {
   "cell_type": "code",
   "execution_count": 29,
   "metadata": {},
   "outputs": [
    {
     "data": {
      "image/png": "[encoded data removed]",
      "text/plain": [
       "plot without title"
      ]
     },
     "metadata": {
      "image/png": {
       "height": 420,
       "width": 420
      }
     },
     "output_type": "display_data"
    },
    {
     "data": {
      "image/png": "[encoded data removed]",
      "text/plain": [
       "plot without title"
      ]
     },
     "metadata": {
      "image/png": {
       "height": 420,
       "width": 420
      }
     },
     "output_type": "display_data"
    }
   ],
   "source": [
    "par(mfrow = c(1, 1))\n",
    "plot(Boston$age, Boston$crim)\n",
    "plot(Boston$dis, Boston$crim)"
   ]
  },
  {
   "cell_type": "raw",
   "metadata": {},
   "source": [
    "It seems from the last two plots that there might be a correlation between crim variable (per capita crime rate by town) \n",
    "and age (proportion of owner-occupied units built prior to 1940) and dis (weighted mean of distances to five Boston employment centres.)"
   ]
  },
  {
   "cell_type": "code",
   "execution_count": 32,
   "metadata": {},
   "outputs": [
    {
     "data": {
      "image/png": "[encoded data removed]",
      "text/plain": [
       "plot without title"
      ]
     },
     "metadata": {
      "image/png": {
       "height": 420,
       "width": 420
      }
     },
     "output_type": "display_data"
    }
   ],
   "source": [
    "# C. Are any of the predictors associated with per capita crime rate? If so, explain the relationship.\n",
    "pairs(Boston[Boston$crim < 10, ])\n",
    "# There might be a relationship age, dis, nox and medv."
   ]
  },
  {
   "cell_type": "code",
   "execution_count": 37,
   "metadata": {},
   "outputs": [
    {
     "data": {
      "text/html": [
       "30"
      ],
      "text/latex": [
       "30"
      ],
      "text/markdown": [
       "30"
      ],
      "text/plain": [
       "[1] 30"
      ]
     },
     "metadata": {},
     "output_type": "display_data"
    },
    {
     "data": {
      "text/html": [
       "132"
      ],
      "text/latex": [
       "132"
      ],
      "text/markdown": [
       "132"
      ],
      "text/plain": [
       "[1] 132"
      ]
     },
     "metadata": {},
     "output_type": "display_data"
    },
    {
     "data": {
      "text/html": [
       "201"
      ],
      "text/latex": [
       "201"
      ],
      "text/markdown": [
       "201"
      ],
      "text/plain": [
       "[1] 201"
      ]
     },
     "metadata": {},
     "output_type": "display_data"
    },
    {
     "data": {
      "image/png": "[encoded data removed]",
      "text/plain": [
       "Plot with title \"Histogram of Boston$tax\""
      ]
     },
     "metadata": {
      "image/png": {
       "height": 420,
       "width": 420
      }
     },
     "output_type": "display_data"
    }
   ],
   "source": [
    "# D. Do any of the suburbs of Boston appear to have particularly high crime rates? Tax rates? Pupil-teacher ratios? Comment on\n",
    "# the range of each predictor.\n",
    "nrow(Boston[Boston$crim > 15, ])\n",
    "hist(Boston$tax)\n",
    "nrow(Boston[Boston$tax == 666, ])\n",
    "nrow(Boston[Boston$ptratio > 20, ])"
   ]
  },
  {
   "cell_type": "code",
   "execution_count": 38,
   "metadata": {},
   "outputs": [
    {
     "data": {
      "text/html": [
       "35"
      ],
      "text/latex": [
       "35"
      ],
      "text/markdown": [
       "35"
      ],
      "text/plain": [
       "[1] 35"
      ]
     },
     "metadata": {},
     "output_type": "display_data"
    }
   ],
   "source": [
    "# E. How many of the suburbs in this data set bound the Charles river ?\n",
    "nrow(Boston[Boston$chas == 1, ])"
   ]
  },
  {
   "cell_type": "code",
   "execution_count": 39,
   "metadata": {},
   "outputs": [
    {
     "data": {
      "text/html": [
       "19.05"
      ],
      "text/latex": [
       "19.05"
      ],
      "text/markdown": [
       "19.05"
      ],
      "text/plain": [
       "[1] 19.05"
      ]
     },
     "metadata": {},
     "output_type": "display_data"
    }
   ],
   "source": [
    "# F. What is the median pupil-teacher ratio among the towns in this data set?\n",
    "median(Boston$ptratio)"
   ]
  },
  {
   "cell_type": "code",
   "execution_count": 42,
   "metadata": {},
   "outputs": [
    {
     "data": {
      "text/html": [
       "'5'"
      ],
      "text/latex": [
       "'5'"
      ],
      "text/markdown": [
       "'5'"
      ],
      "text/plain": [
       "[1] \"5\""
      ]
     },
     "metadata": {},
     "output_type": "display_data"
    },
    {
     "data": {
      "text/html": [
       "<style>\n",
       ".list-inline {list-style: none; margin:0; padding: 0}\n",
       ".list-inline>li {display: inline-block}\n",
       ".list-inline>li:not(:last-child)::after {content: \"\\00b7\"; padding: 0 .5ex}\n",
       "</style>\n",
       "<ol class=list-inline><li>187</li><li>711</li></ol>\n"
      ],
      "text/latex": [
       "\\begin{enumerate*}\n",
       "\\item 187\n",
       "\\item 711\n",
       "\\end{enumerate*}\n"
      ],
      "text/markdown": [
       "1. 187\n",
       "2. 711\n",
       "\n",
       "\n"
      ],
      "text/plain": [
       "[1] 187 711"
      ]
     },
     "metadata": {},
     "output_type": "display_data"
    },
    {
     "data": {
      "text/html": [
       "222"
      ],
      "text/latex": [
       "222"
      ],
      "text/markdown": [
       "222"
      ],
      "text/plain": [
       "[1] 222"
      ]
     },
     "metadata": {},
     "output_type": "display_data"
    }
   ],
   "source": [
    "# G. Which suburb of Boston has lowest median value of owner\u0002occupied homes? What are the values of the other predictors\n",
    "# for that suburb, and how do those values compare to the overall\n",
    "# ranges for those predictors? Comment on your findings.\n",
    "row.names(Boston[min(Boston$medv), ])\n",
    "range(Boston$tax)\n",
    "Boston[min(Boston$medv), ]$tax"
   ]
  },
  {
   "cell_type": "code",
   "execution_count": 44,
   "metadata": {},
   "outputs": [
    {
     "data": {
      "text/html": [
       "64"
      ],
      "text/latex": [
       "64"
      ],
      "text/markdown": [
       "64"
      ],
      "text/plain": [
       "[1] 64"
      ]
     },
     "metadata": {},
     "output_type": "display_data"
    },
    {
     "data": {
      "text/html": [
       "13"
      ],
      "text/latex": [
       "13"
      ],
      "text/markdown": [
       "13"
      ],
      "text/plain": [
       "[1] 13"
      ]
     },
     "metadata": {},
     "output_type": "display_data"
    }
   ],
   "source": [
    "# H. In this data set, how many of the suburbs average more than seven rooms per dwelling? More than eight rooms per dwelling?\n",
    "# Comment on the suburbs that average more than eight rooms per dwelling.\n",
    "\n",
    "nrow(Boston[Boston$rm > 7, ])\n",
    "nrow(Boston[Boston$rm > 8, ])"
   ]
  },
  {
   "cell_type": "markdown",
   "metadata": {},
   "source": [
    "# 3 (p.120, Chap.3)"
   ]
  },
  {
   "cell_type": "markdown",
   "metadata": {},
   "source": [
    "Suppose we have a data set with five predictors, X1 = GPA, X2 = IQ,\n",
    "X3 = Gender (1 for Female and 0 for Male), X4 = Interaction between\n",
    "GPA and IQ, and X5 = Interaction between GPA and Gender. The\n",
    "response is starting salary after graduation (in thousands of dollars).\n",
    "Suppose we use least squares to fit the model, and get βˆ0 = 50, βˆ1 =\n",
    "20, βˆ2 = 0.07, βˆ3 = 35, βˆ4 = 0.01, βˆ5 = −10.\n",
    "             \n",
    "(a) Which answer is correct, and why?\n",
    "i. For a fixed value of IQ and GPA, males earn more on average\n",
    "than females.\n",
    "ii. For a fixed value of IQ and GPA, females earn more on\n",
    "average than males.\n",
    "iii. For a fixed value of IQ and GPA, males earn more on average\n",
    "than females provided that the GPA is high enough.\n",
    "iv. For a fixed value of IQ and GPA, females earn more on\n",
    "average than males provided that the GPA is high enough.\n",
    "(b) Predict the salary of a female with IQ of 110 and a GPA of 4.0.\n",
    "(c) True or false: Since the coefficient for the GPA/IQ interaction\n",
    "term is very small, there is very little evidence of an interaction\n",
    "effect. Justify your answer.\n",
    "             \n",
    "a. The least Square Line:\n",
    "y^=50+20GPA+0.07IQ+35Gender+0.01GPA×IQ−10GPA×Gender\n",
    "males:\n",
    "y^=50+20GPA+0.07IQ+0.01GPA×IQ,\n",
    "females:\n",
    "y^=85+10GPA+0.07IQ+0.01GPA×IQ.\n",
    "the right answer is iii. \n",
    "\n",
    "b. 137.100\n",
    "c. False\n"
   ]
  },
  {
   "cell_type": "markdown",
   "metadata": {},
   "source": [
    "# 10 (p.123, Chap.3)"
   ]
  },
  {
   "cell_type": "code",
   "execution_count": 56,
   "metadata": {},
   "outputs": [
    {
     "data": {
      "text/html": [
       "<table class=\"dataframe\">\n",
       "<caption>A data.frame: 6 × 11</caption>\n",
       "<thead>\n",
       "\t<tr><th></th><th scope=col>Sales</th><th scope=col>CompPrice</th><th scope=col>Income</th><th scope=col>Advertising</th><th scope=col>Population</th><th scope=col>Price</th><th scope=col>ShelveLoc</th><th scope=col>Age</th><th scope=col>Education</th><th scope=col>Urban</th><th scope=col>US</th></tr>\n",
       "\t<tr><th></th><th scope=col>&lt;dbl&gt;</th><th scope=col>&lt;dbl&gt;</th><th scope=col>&lt;dbl&gt;</th><th scope=col>&lt;dbl&gt;</th><th scope=col>&lt;dbl&gt;</th><th scope=col>&lt;dbl&gt;</th><th scope=col>&lt;fct&gt;</th><th scope=col>&lt;dbl&gt;</th><th scope=col>&lt;dbl&gt;</th><th scope=col>&lt;fct&gt;</th><th scope=col>&lt;fct&gt;</th></tr>\n",
       "</thead>\n",
       "<tbody>\n",
       "\t<tr><th scope=row>1</th><td> 9.50</td><td>138</td><td> 73</td><td>11</td><td>276</td><td>120</td><td>Bad   </td><td>42</td><td>17</td><td>Yes</td><td>Yes</td></tr>\n",
       "\t<tr><th scope=row>2</th><td>11.22</td><td>111</td><td> 48</td><td>16</td><td>260</td><td> 83</td><td>Good  </td><td>65</td><td>10</td><td>Yes</td><td>Yes</td></tr>\n",
       "\t<tr><th scope=row>3</th><td>10.06</td><td>113</td><td> 35</td><td>10</td><td>269</td><td> 80</td><td>Medium</td><td>59</td><td>12</td><td>Yes</td><td>Yes</td></tr>\n",
       "\t<tr><th scope=row>4</th><td> 7.40</td><td>117</td><td>100</td><td> 4</td><td>466</td><td> 97</td><td>Medium</td><td>55</td><td>14</td><td>Yes</td><td>Yes</td></tr>\n",
       "\t<tr><th scope=row>5</th><td> 4.15</td><td>141</td><td> 64</td><td> 3</td><td>340</td><td>128</td><td>Bad   </td><td>38</td><td>13</td><td>Yes</td><td>No </td></tr>\n",
       "\t<tr><th scope=row>6</th><td>10.81</td><td>124</td><td>113</td><td>13</td><td>501</td><td> 72</td><td>Bad   </td><td>78</td><td>16</td><td>No </td><td>Yes</td></tr>\n",
       "</tbody>\n",
       "</table>\n"
      ],
      "text/latex": [
       "A data.frame: 6 × 11\n",
       "\\begin{tabular}{r|lllllllllll}\n",
       "  & Sales & CompPrice & Income & Advertising & Population & Price & ShelveLoc & Age & Education & Urban & US\\\\\n",
       "  & <dbl> & <dbl> & <dbl> & <dbl> & <dbl> & <dbl> & <fct> & <dbl> & <dbl> & <fct> & <fct>\\\\\n",
       "\\hline\n",
       "\t1 &  9.50 & 138 &  73 & 11 & 276 & 120 & Bad    & 42 & 17 & Yes & Yes\\\\\n",
       "\t2 & 11.22 & 111 &  48 & 16 & 260 &  83 & Good   & 65 & 10 & Yes & Yes\\\\\n",
       "\t3 & 10.06 & 113 &  35 & 10 & 269 &  80 & Medium & 59 & 12 & Yes & Yes\\\\\n",
       "\t4 &  7.40 & 117 & 100 &  4 & 466 &  97 & Medium & 55 & 14 & Yes & Yes\\\\\n",
       "\t5 &  4.15 & 141 &  64 &  3 & 340 & 128 & Bad    & 38 & 13 & Yes & No \\\\\n",
       "\t6 & 10.81 & 124 & 113 & 13 & 501 &  72 & Bad    & 78 & 16 & No  & Yes\\\\\n",
       "\\end{tabular}\n"
      ],
      "text/markdown": [
       "\n",
       "A data.frame: 6 × 11\n",
       "\n",
       "| <!--/--> | Sales &lt;dbl&gt; | CompPrice &lt;dbl&gt; | Income &lt;dbl&gt; | Advertising &lt;dbl&gt; | Population &lt;dbl&gt; | Price &lt;dbl&gt; | ShelveLoc &lt;fct&gt; | Age &lt;dbl&gt; | Education &lt;dbl&gt; | Urban &lt;fct&gt; | US &lt;fct&gt; |\n",
       "|---|---|---|---|---|---|---|---|---|---|---|---|\n",
       "| 1 |  9.50 | 138 |  73 | 11 | 276 | 120 | Bad    | 42 | 17 | Yes | Yes |\n",
       "| 2 | 11.22 | 111 |  48 | 16 | 260 |  83 | Good   | 65 | 10 | Yes | Yes |\n",
       "| 3 | 10.06 | 113 |  35 | 10 | 269 |  80 | Medium | 59 | 12 | Yes | Yes |\n",
       "| 4 |  7.40 | 117 | 100 |  4 | 466 |  97 | Medium | 55 | 14 | Yes | Yes |\n",
       "| 5 |  4.15 | 141 |  64 |  3 | 340 | 128 | Bad    | 38 | 13 | Yes | No  |\n",
       "| 6 | 10.81 | 124 | 113 | 13 | 501 |  72 | Bad    | 78 | 16 | No  | Yes |\n",
       "\n"
      ],
      "text/plain": [
       "  Sales CompPrice Income Advertising Population Price ShelveLoc Age Education\n",
       "1  9.50 138        73    11          276        120   Bad       42  17       \n",
       "2 11.22 111        48    16          260         83   Good      65  10       \n",
       "3 10.06 113        35    10          269         80   Medium    59  12       \n",
       "4  7.40 117       100     4          466         97   Medium    55  14       \n",
       "5  4.15 141        64     3          340        128   Bad       38  13       \n",
       "6 10.81 124       113    13          501         72   Bad       78  16       \n",
       "  Urban US \n",
       "1 Yes   Yes\n",
       "2 Yes   Yes\n",
       "3 Yes   Yes\n",
       "4 Yes   Yes\n",
       "5 Yes   No \n",
       "6 No    Yes"
      ]
     },
     "metadata": {},
     "output_type": "display_data"
    },
    {
     "data": {
      "text/plain": [
       "\n",
       "Call:\n",
       "lm(formula = Sales ~ Price + Urban + US, data = Carseats)\n",
       "\n",
       "Residuals:\n",
       "    Min      1Q  Median      3Q     Max \n",
       "-6.9206 -1.6220 -0.0564  1.5786  7.0581 \n",
       "\n",
       "Coefficients:\n",
       "             Estimate Std. Error t value Pr(>|t|)    \n",
       "(Intercept) 13.043469   0.651012  20.036  < 2e-16 ***\n",
       "Price       -0.054459   0.005242 -10.389  < 2e-16 ***\n",
       "UrbanYes    -0.021916   0.271650  -0.081    0.936    \n",
       "USYes        1.200573   0.259042   4.635 4.86e-06 ***\n",
       "---\n",
       "Signif. codes:  0 '***' 0.001 '**' 0.01 '*' 0.05 '.' 0.1 ' ' 1\n",
       "\n",
       "Residual standard error: 2.472 on 396 degrees of freedom\n",
       "Multiple R-squared:  0.2393,\tAdjusted R-squared:  0.2335 \n",
       "F-statistic: 41.52 on 3 and 396 DF,  p-value: < 2.2e-16\n"
      ]
     },
     "metadata": {},
     "output_type": "display_data"
    }
   ],
   "source": [
    "# 10. This question should be answered using the Carseats data set.\n",
    "# (a) Fit a multiple regression model to predict Sales using Price,\n",
    "# Urban, and US.\n",
    "library(\"ISLR\")\n",
    "# ?Carseats\n",
    "head(Carseats)\n",
    "lm.fit = lm(Sales ~ Price+Urban+US, data= Carseats)\n",
    "summary(lm.fit)\n",
    "\n",
    "\n"
   ]
  },
  {
   "cell_type": "code",
   "execution_count": 46,
   "metadata": {},
   "outputs": [],
   "source": [
    "# (b) Provide an interpretation of each coefficient in the model. Be\n",
    "# careful—some of the variables in the model are qualitative!\n",
    "\n",
    "# When price increases by 1.000 sales decrease by 54\n",
    "# Store sales are not affected by the Urban feature.\n",
    "# Stores in the US sale 1.200 more than other stores."
   ]
  },
  {
   "cell_type": "code",
   "execution_count": 48,
   "metadata": {},
   "outputs": [],
   "source": [
    "# (d) For which of the predictors can you reject the null hypothesis\n",
    "# H0 : βj = 0?\n",
    "# The feature Urban has a p value not significant of 0.936.\n"
   ]
  },
  {
   "cell_type": "code",
   "execution_count": 57,
   "metadata": {},
   "outputs": [
    {
     "data": {
      "text/plain": [
       "\n",
       "Call:\n",
       "lm(formula = Sales ~ Price + US, data = Carseats)\n",
       "\n",
       "Residuals:\n",
       "    Min      1Q  Median      3Q     Max \n",
       "-6.9269 -1.6286 -0.0574  1.5766  7.0515 \n",
       "\n",
       "Coefficients:\n",
       "            Estimate Std. Error t value Pr(>|t|)    \n",
       "(Intercept) 13.03079    0.63098  20.652  < 2e-16 ***\n",
       "Price       -0.05448    0.00523 -10.416  < 2e-16 ***\n",
       "USYes        1.19964    0.25846   4.641 4.71e-06 ***\n",
       "---\n",
       "Signif. codes:  0 '***' 0.001 '**' 0.01 '*' 0.05 '.' 0.1 ' ' 1\n",
       "\n",
       "Residual standard error: 2.469 on 397 degrees of freedom\n",
       "Multiple R-squared:  0.2393,\tAdjusted R-squared:  0.2354 \n",
       "F-statistic: 62.43 on 2 and 397 DF,  p-value: < 2.2e-16\n"
      ]
     },
     "metadata": {},
     "output_type": "display_data"
    }
   ],
   "source": [
    "\n",
    "# (e) On the basis of your response to the previous question, fit a\n",
    "# smaller model that only uses the predictors for which there is\n",
    "# evidence of association with the outcome.\n",
    "lm.fit2 = lm(Sales ~ Price+US, data= Carseats)\n",
    "summary(lm.fit2)"
   ]
  },
  {
   "cell_type": "code",
   "execution_count": 60,
   "metadata": {},
   "outputs": [],
   "source": [
    "# (f) How well do the models in (a) and (e) fit the data?\n",
    "# these are not accurate models because the R squared is low."
   ]
  },
  {
   "cell_type": "code",
   "execution_count": 61,
   "metadata": {},
   "outputs": [
    {
     "data": {
      "text/html": [
       "<table class=\"dataframe\">\n",
       "<caption>A matrix: 3 × 2 of type dbl</caption>\n",
       "<thead>\n",
       "\t<tr><th></th><th scope=col>2.5 %</th><th scope=col>97.5 %</th></tr>\n",
       "</thead>\n",
       "<tbody>\n",
       "\t<tr><th scope=row>(Intercept)</th><td>11.79032020</td><td>14.27126531</td></tr>\n",
       "\t<tr><th scope=row>Price</th><td>-0.06475984</td><td>-0.04419543</td></tr>\n",
       "\t<tr><th scope=row>USYes</th><td> 0.69151957</td><td> 1.70776632</td></tr>\n",
       "</tbody>\n",
       "</table>\n"
      ],
      "text/latex": [
       "A matrix: 3 × 2 of type dbl\n",
       "\\begin{tabular}{r|ll}\n",
       "  & 2.5 \\% & 97.5 \\%\\\\\n",
       "\\hline\n",
       "\t(Intercept) & 11.79032020 & 14.27126531\\\\\n",
       "\tPrice & -0.06475984 & -0.04419543\\\\\n",
       "\tUSYes &  0.69151957 &  1.70776632\\\\\n",
       "\\end{tabular}\n"
      ],
      "text/markdown": [
       "\n",
       "A matrix: 3 × 2 of type dbl\n",
       "\n",
       "| <!--/--> | 2.5 % | 97.5 % |\n",
       "|---|---|---|\n",
       "| (Intercept) | 11.79032020 | 14.27126531 |\n",
       "| Price | -0.06475984 | -0.04419543 |\n",
       "| USYes |  0.69151957 |  1.70776632 |\n",
       "\n"
      ],
      "text/plain": [
       "            2.5 %       97.5 %     \n",
       "(Intercept) 11.79032020 14.27126531\n",
       "Price       -0.06475984 -0.04419543\n",
       "USYes        0.69151957  1.70776632"
      ]
     },
     "metadata": {},
     "output_type": "display_data"
    }
   ],
   "source": [
    "# (g) Using the model from (e), obtain 95 % confidence intervals for\n",
    "# the coefficient(s).\n",
    "confint(lm.fit2)\n",
    "\n",
    "\n"
   ]
  },
  {
   "cell_type": "code",
   "execution_count": 64,
   "metadata": {},
   "outputs": [
    {
     "data": {
      "image/png": "[encoded data removed]",
      "text/plain": [
       "Plot with title \"\""
      ]
     },
     "metadata": {
      "image/png": {
       "height": 420,
       "width": 420
      }
     },
     "output_type": "display_data"
    }
   ],
   "source": [
    "\n",
    "# (h) Is there evidence of outliers or high leverage observations in the\n",
    "# model from (e)\n",
    "par(mfrow=c(2,2))\n",
    "plot(lm.fit2)\n",
    "# there is no evidence of outliers"
   ]
  },
  {
   "cell_type": "markdown",
   "metadata": {},
   "source": [
    "# 15 (p.126, Chap.3)"
   ]
  },
  {
   "cell_type": "code",
   "execution_count": 69,
   "metadata": {},
   "outputs": [
    {
     "name": "stderr",
     "output_type": "stream",
     "text": [
      "The following objects are masked from Boston (pos = 3):\n",
      "\n",
      "    age, black, chas, crim, dis, indus, lstat, medv, nox, ptratio, rad,\n",
      "    rm, tax, zn\n",
      "\n",
      "\n",
      "The following objects are masked from Boston (pos = 4):\n",
      "\n",
      "    age, black, chas, crim, dis, indus, lstat, medv, nox, ptratio, rad,\n",
      "    rm, tax, zn\n",
      "\n",
      "\n"
     ]
    },
    {
     "data": {
      "text/plain": [
       "\n",
       "Call:\n",
       "lm(formula = crim ~ zn)\n",
       "\n",
       "Residuals:\n",
       "   Min     1Q Median     3Q    Max \n",
       "-4.429 -4.222 -2.620  1.250 84.523 \n",
       "\n",
       "Coefficients:\n",
       "            Estimate Std. Error t value Pr(>|t|)    \n",
       "(Intercept)  4.45369    0.41722  10.675  < 2e-16 ***\n",
       "zn          -0.07393    0.01609  -4.594 5.51e-06 ***\n",
       "---\n",
       "Signif. codes:  0 '***' 0.001 '**' 0.01 '*' 0.05 '.' 0.1 ' ' 1\n",
       "\n",
       "Residual standard error: 8.435 on 504 degrees of freedom\n",
       "Multiple R-squared:  0.04019,\tAdjusted R-squared:  0.03828 \n",
       "F-statistic:  21.1 on 1 and 504 DF,  p-value: 5.506e-06\n"
      ]
     },
     "metadata": {},
     "output_type": "display_data"
    },
    {
     "data": {
      "image/png": "[encoded data removed]",
      "text/plain": [
       "Plot with title \"crim and zn\""
      ]
     },
     "metadata": {
      "image/png": {
       "height": 420,
       "width": 420
      }
     },
     "output_type": "display_data"
    }
   ],
   "source": [
    "# This problem involves the Boston data set, which we saw in the lab\n",
    "# for this chapter. We will now try to predict per capita crime rate\n",
    "# using the other variables in this data set. In other words, per capita\n",
    "# crime rate is the response, and the other variables are the predictors.\n",
    "# (a) For each predictor, fit a simple linear regression model to predict\n",
    "# the response. Describe your results. In which of the models is\n",
    "# there a statistically significant association between the predictor\n",
    "# and the response? Create some plots to back up your assertions.\n",
    "\n",
    "library(MASS)\n",
    "#reading the Boston Dataset\n",
    "data(\"Boston\")\n",
    "attach(Boston)\n",
    "linear_fit.zn <- lm(crim ~zn)\n",
    "summary(linear_fit.zn)\n",
    "\n",
    "plot(zn,crim,pch = 20, main = \"crim and zn\")\n",
    "abline(linear_fit.zn,col = \"blue\",lwd = 3)\n",
    "legend(\"topleft\", c( \"regression\"), col = c(\"blue\"), lty = c(1, 1))"
   ]
  },
  {
   "cell_type": "code",
   "execution_count": null,
   "metadata": {},
   "outputs": [],
   "source": [
    "# (b) Fit a multiple regression model to predict the response using\n",
    "# all of the predictors. Describe your results. For which predictors\n",
    "# can we reject the null hypothesis H0 : βj = 0?\n"
   ]
  },
  {
   "cell_type": "code",
   "execution_count": null,
   "metadata": {},
   "outputs": [],
   "source": [
    "# (c) How do your results from (a) compare to your results from (b)?\n",
    "# Create a plot displaying the univariate regression coefficients\n",
    "# from (a) on the x-axis, and the multiple regression coefficients\n",
    "# from (b) on the y-axis. That is, each predictor is displayed as a\n",
    "# single point in the plot. Its coefficient in a simple linear regres\u0002sion model is shown on the x-axis, and its coefficient estimate\n",
    "# in the multiple linear regression model is shown on the y-axis.\n"
   ]
  },
  {
   "cell_type": "code",
   "execution_count": null,
   "metadata": {},
   "outputs": [],
   "source": [
    "# (d) Is there evidence of non-linear association between any of the\n",
    "# predictors and the response? To answer this question, for each\n",
    "# predictor X, fit a model of the form"
   ]
  },
  {
   "cell_type": "code",
   "execution_count": null,
   "metadata": {},
   "outputs": [],
   "source": []
  },
  {
   "cell_type": "code",
   "execution_count": null,
   "metadata": {},
   "outputs": [],
   "source": []
  },
  {
   "cell_type": "code",
   "execution_count": null,
   "metadata": {},
   "outputs": [],
   "source": []
  },
  {
   "cell_type": "code",
   "execution_count": null,
   "metadata": {},
   "outputs": [],
   "source": []
  }
 ],
 "metadata": {
  "kernelspec": {
   "display_name": "R",
   "language": "R",
   "name": "ir"
  },
  "language_info": {
   "codemirror_mode": "r",
   "file_extension": ".r",
   "mimetype": "text/x-r-source",
   "name": "R",
   "pygments_lexer": "r",
   "version": "4.0.5"
  }
 },
 "nbformat": 4,
 "nbformat_minor": 2
}
