{
 "cells": [
  {
   "cell_type": "code",
   "execution_count": 1,
   "id": "0d913373",
   "metadata": {},
   "outputs": [],
   "source": [
    "# Exercise 3 (p.198, Chap.5), 8 (p.200, Chap.5), 1 (p.259, Chap.6), 9 (p.263, Chap.6), 9 (p.299, Chap.7) and \n",
    "# 10 (p.300, Chap.7)"
   ]
  },
  {
   "cell_type": "code",
   "execution_count": 2,
   "id": "2347cfb6",
   "metadata": {},
   "outputs": [],
   "source": [
    "# Exercise 3 (p.198, Chap.5)"
   ]
  },
  {
   "cell_type": "code",
   "execution_count": 3,
   "id": "46a45805",
   "metadata": {},
   "outputs": [],
   "source": [
    "# 3. We now review k-fold cross-validation.\n",
    "# (a) Explain how k-fold cross-validation is implemented.\n",
    "# (b) What are the advantages and disadvantages of k-fold cross\u0002validation relative to:\n",
    "# i. The validation set approach?\n",
    "# ii. LOOCV?"
   ]
  },
  {
   "cell_type": "markdown",
   "id": "27879ddf",
   "metadata": {},
   "source": [
    "a. The k-fold cross validation is performed by randomly partitioning the number of observations, n, into k, non-overlapping groups with lengths of about n/k. These are the validation groups, while the others are the training groups. The test error is then calculated by averaging the k MSE estimates obtained."
   ]
  },
  {
   "cell_type": "markdown",
   "id": "cf0fc874",
   "metadata": {},
   "source": [
    "b. \n",
    "\n",
    "i. The validation estimate of the test error rate might be significantly variable (depending on which observations are included in the training/validation set), which is a disadvantage of the validation set approach compared to k-fold cross-validation. Another problem is that the validation set error may overstate the test error rate for the model fit on the complete data set because just a portion of the observations is utilized to build the model.\n",
    "\n",
    "ii. \n",
    "LOOCV has a lower level of bias. We fit the statistical learning approach repeatedly using training data with n-1 observations, i.e. virtually the entire data set. LOOCV produces a less variable MSE. Because we split based on 1 obs. each time, the validation strategy gives different MSE when done again owing to randomness in the splitting process, whereas executing LOOCV several times will always yield the same results because we split based on 1 obs. each time (disadvantage). Each model was fitted n times."
   ]
  },
  {
   "cell_type": "markdown",
   "id": "06dddec9",
   "metadata": {},
   "source": [
    "# 8. We will now perform cross-validation on a simulated data set.\n",
    "(a) Generate a simulated data set as follows:\n",
    "> set.seed(1)\n",
    "> y=rnorm(100)\n",
    "> x=rnorm(100)\n",
    "> y=x-2*x^2+rnorm (100)\n",
    "In this data set, what is n and what is p? Write out the model\n",
    "used to generate the data in equation form.\n",
    "(b) Create a scatterplot of X against Y . Comment on what you find.\n",
    "(c) Set a random seed, and then compute the LOOCV errors that\n",
    "result from fitting the following four models using least squares:\n",
    "i. Y = β0 + β1X + \u0003\n",
    "ii. Y = β0 + β1X + β2X2 + \u0003\n",
    "iii. Y = β0 + β1X + β2X2 + β3X3 + \u0003\n",
    "iv. Y = β0 + β1X + β2X2 + β3X3 + β4X4 + \u0003.\n",
    "Note you may find it helpful to use the data.frame() function\n",
    "to create a single data set containing both X and Y .\n",
    "(d) Repeat (c) using another random seed, and report your results.\n",
    "Are your results the same as what you got in (c)? Why?\n",
    "(e) Which of the models in (c) had the smallest LOOCV error? Is\n",
    "this what you expected? Explain your answer.\n",
    "(f) Comment on the statistical significance of the coefficient esti\u0002mates that results from fitting each of the models in (c) using\n",
    "least squares. Do these results agree with the conclusions drawn\n",
    "based on the cross-validation results?"
   ]
  },
  {
   "cell_type": "code",
   "execution_count": null,
   "id": "49c3f6b9",
   "metadata": {},
   "outputs": [],
   "source": []
  },
  {
   "cell_type": "code",
   "execution_count": null,
   "id": "8f34e9f9",
   "metadata": {},
   "outputs": [],
   "source": []
  },
  {
   "cell_type": "code",
   "execution_count": null,
   "id": "545f64fa",
   "metadata": {},
   "outputs": [],
   "source": []
  },
  {
   "cell_type": "code",
   "execution_count": null,
   "id": "0f9ca77b",
   "metadata": {},
   "outputs": [],
   "source": []
  },
  {
   "cell_type": "code",
   "execution_count": null,
   "id": "b87eaa3c",
   "metadata": {},
   "outputs": [],
   "source": []
  },
  {
   "cell_type": "code",
   "execution_count": null,
   "id": "8f41b5b3",
   "metadata": {},
   "outputs": [],
   "source": []
  },
  {
   "cell_type": "code",
   "execution_count": null,
   "id": "6386af35",
   "metadata": {},
   "outputs": [],
   "source": []
  },
  {
   "cell_type": "code",
   "execution_count": null,
   "id": "2f44b854",
   "metadata": {},
   "outputs": [],
   "source": []
  }
 ],
 "metadata": {
  "kernelspec": {
   "display_name": "R",
   "language": "R",
   "name": "ir"
  },
  "language_info": {
   "codemirror_mode": "r",
   "file_extension": ".r",
   "mimetype": "text/x-r-source",
   "name": "R",
   "pygments_lexer": "r",
   "version": "3.6.1"
  }
 },
 "nbformat": 4,
 "nbformat_minor": 5
}
